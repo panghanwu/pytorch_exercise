{
  "nbformat": 4,
  "nbformat_minor": 0,
  "metadata": {
    "colab": {
      "name": "regression.ipynb",
      "provenance": [],
      "authorship_tag": "ABX9TyNz3E4bhw+78wDuRcg4/7Se",
      "include_colab_link": true
    },
    "kernelspec": {
      "name": "python3",
      "display_name": "Python 3"
    }
  },
  "cells": [
    {
      "cell_type": "markdown",
      "metadata": {
        "id": "view-in-github",
        "colab_type": "text"
      },
      "source": [
        "<a href=\"https://colab.research.google.com/github/panghanwu/pytorch_example/blob/main/regression.ipynb\" target=\"_parent\"><img src=\"https://colab.research.google.com/assets/colab-badge.svg\" alt=\"Open In Colab\"/></a>"
      ]
    },
    {
      "cell_type": "code",
      "metadata": {
        "id": "iNTR5-aVHPER"
      },
      "source": [
        "import torch\n",
        "import matplotlib.pyplot as plt\n"
      ],
      "execution_count": 1,
      "outputs": []
    },
    {
      "cell_type": "code",
      "metadata": {
        "colab": {
          "base_uri": "https://localhost:8080/",
          "height": 497
        },
        "id": "D8GHv_JYIAy4",
        "outputId": "ab4f923a-0665-4877-ab8d-1d1959c15db2"
      },
      "source": [
        "\"\"\"Make fake data\"\"\"\n",
        "x = torch.linspace(0, 100).type(torch.FloatTensor)\n",
        "\n",
        "rand = torch.randn(100) * 10\n",
        "y = x + rand\n",
        "\n",
        "plt.figure(figsize=(10,8))\n",
        "plt.plot(x.numpy(), y.numpy(), 'o')\n",
        "plt.xlabel('X')\n",
        "plt.ylabel('Y')\n",
        "plt.show()"
      ],
      "execution_count": 7,
      "outputs": [
        {
          "output_type": "display_data",
          "data": {
            "image/png": "[encoded data removed]",
            "text/plain": [
              "<Figure size 720x576 with 1 Axes>"
            ]
          },
          "metadata": {
            "tags": [],
            "needs_background": "light"
          }
        }
      ]
    },
    {
      "cell_type": "markdown",
      "metadata": {
        "id": "qoPcRzTMqFVb"
      },
      "source": [
        "$ L = \\sum_{i}^{N} (y_i - ax_i - b)$  \n"
      ]
    },
    {
      "cell_type": "code",
      "metadata": {
        "colab": {
          "base_uri": "https://localhost:8080/"
        },
        "id": "i2V9kBAnpSnt",
        "outputId": "dbe3d46e-f423-4b0b-ff1d-2dc3314dc908"
      },
      "source": [
        "# initialize\n",
        "a = torch.rand(1, requires_grad=True)\n",
        "b = torch.rand(1, requires_grad=True)\n",
        "\n",
        "learning_rate = 0.0001\n",
        "\n",
        "print(a, b)"
      ],
      "execution_count": 8,
      "outputs": [
        {
          "output_type": "stream",
          "text": [
            "tensor([0.3867], requires_grad=True) tensor([0.6465], requires_grad=True)\n"
          ],
          "name": "stdout"
        }
      ]
    },
    {
      "cell_type": "code",
      "metadata": {
        "colab": {
          "base_uri": "https://localhost:8080/"
        },
        "id": "gRhLWU9ksNCF",
        "outputId": "5943d840-1b40-44fe-8f9e-9f6944ae7f89"
      },
      "source": [
        "a.expand_as(x).shape"
      ],
      "execution_count": 9,
      "outputs": [
        {
          "output_type": "execute_result",
          "data": {
            "text/plain": [
              "torch.Size([100])"
            ]
          },
          "metadata": {
            "tags": []
          },
          "execution_count": 9
        }
      ]
    },
    {
      "cell_type": "code",
      "metadata": {
        "colab": {
          "base_uri": "https://localhost:8080/"
        },
        "id": "RFuO2ek2rtZN",
        "outputId": "242e6908-6827-4bf3-ad6d-128776e9e365"
      },
      "source": [
        "\"\"\"Gradient descent\"\"\"\n",
        "\n",
        "for i in range(1000):\n",
        "    forwards = a.expand_as(x) * x + b.expand_as(x)\n",
        "    loss = torch.mean((forwards-y)**2)\n",
        "    if i%100 == 0 :\n",
        "        print('loss:', loss)\n",
        "    \n",
        "    loss.backward()\n",
        "    a.data.add_(-learning_rate*a.grad)\n",
        "    b.data.add_(-learning_rate*b.grad)\n",
        "\n",
        "    a.grad.data.zero_()\n",
        "    b.grad.data.zero_()\n"
      ],
      "execution_count": 10,
      "outputs": [
        {
          "output_type": "stream",
          "text": [
            "loss: tensor(1228.3533, grad_fn=<MeanBackward0>)\n",
            "loss: tensor(102.8470, grad_fn=<MeanBackward0>)\n",
            "loss: tensor(102.8429, grad_fn=<MeanBackward0>)\n",
            "loss: tensor(102.8389, grad_fn=<MeanBackward0>)\n",
            "loss: tensor(102.8349, grad_fn=<MeanBackward0>)\n",
            "loss: tensor(102.8309, grad_fn=<MeanBackward0>)\n",
            "loss: tensor(102.8270, grad_fn=<MeanBackward0>)\n",
            "loss: tensor(102.8231, grad_fn=<MeanBackward0>)\n",
            "loss: tensor(102.8192, grad_fn=<MeanBackward0>)\n",
            "loss: tensor(102.8154, grad_fn=<MeanBackward0>)\n"
          ],
          "name": "stdout"
        }
      ]
    },
    {
      "cell_type": "code",
      "metadata": {
        "colab": {
          "base_uri": "https://localhost:8080/",
          "height": 515
        },
        "id": "46b19s8luRzc",
        "outputId": "6c073da3-a024-4c17-c03b-047e7e4cb2c9"
      },
      "source": [
        "x_data = x.numpy()\n",
        "y_fit = a.data.numpy() * x_data + b.data.numpy()\n",
        "\n",
        "# plot\n",
        "plt.figure(figsize=(10,8))\n",
        "xplot, = plt.plot(x_data, y.numpy(), 'o')\n",
        "yplot, = plt.plot(x_data, y_fit)\n",
        "\n",
        "# label\n",
        "plt.xlabel('X')\n",
        "plt.ylabel('Y')\n",
        "\n",
        "formula = str(a.data.numpy()[0]) + 'x + ' + str(b.data.numpy()[0])\n",
        "plt.legend([xplot, yplot], ['Data', formula])\n",
        "\n",
        "plt.show"
      ],
      "execution_count": 13,
      "outputs": [
        {
          "output_type": "execute_result",
          "data": {
            "text/plain": [
              "<function matplotlib.pyplot.show>"
            ]
          },
          "metadata": {
            "tags": []
          },
          "execution_count": 13
        },
        {
          "output_type": "display_data",
          "data": {
            "image/png": "[encoded data removed]",
            "text/plain": [
              "<Figure size 720x576 with 1 Axes>"
            ]
          },
          "metadata": {
            "tags": [],
            "needs_background": "light"
          }
        }
      ]
    }
  ]
}