{
  "nbformat": 4,
  "nbformat_minor": 0,
  "metadata": {
    "colab": {
      "name": "basic_demo.ipynb",
      "provenance": [],
      "authorship_tag": "ABX9TyNmxsg0EZg3rGdp9x7sjs8q",
      "include_colab_link": true
    },
    "kernelspec": {
      "name": "python3",
      "display_name": "Python 3"
    },
    "accelerator": "GPU"
  },
  "cells": [
    {
      "cell_type": "markdown",
      "metadata": {
        "id": "view-in-github",
        "colab_type": "text"
      },
      "source": [
        "<a href=\"https://colab.research.google.com/github/panghanwu/pytorch_example/blob/main/basic_demo.ipynb\" target=\"_parent\"><img src=\"https://colab.research.google.com/assets/colab-badge.svg\" alt=\"Open In Colab\"/></a>"
      ]
    },
    {
      "cell_type": "code",
      "metadata": {
        "id": "HW8wvVIiOuGG"
      },
      "source": [
        "import numpy as np\n",
        "import torch"
      ],
      "execution_count": null,
      "outputs": []
    },
    {
      "cell_type": "code",
      "metadata": {
        "colab": {
          "base_uri": "https://localhost:8080/"
        },
        "id": "NJrxbo9LPwTI",
        "outputId": "baa9b85f-ada6-4b13-b75a-e1a4c24801d4"
      },
      "source": [
        "torch.rand(4, 3)"
      ],
      "execution_count": null,
      "outputs": [
        {
          "output_type": "execute_result",
          "data": {
            "text/plain": [
              "tensor([[0.2230, 0.0264, 0.2074],\n",
              "        [0.4620, 0.5727, 0.5592],\n",
              "        [0.6527, 0.7102, 0.4127],\n",
              "        [0.8106, 0.2391, 0.3004]])"
            ]
          },
          "metadata": {
            "tags": []
          },
          "execution_count": 2
        }
      ]
    },
    {
      "cell_type": "code",
      "metadata": {
        "colab": {
          "base_uri": "https://localhost:8080/"
        },
        "id": "CwzF7RWyP9Cn",
        "outputId": "e384a472-58b4-45a1-ba8b-6c5b1fd39da3"
      },
      "source": [
        "torch.ones(4, 3)"
      ],
      "execution_count": null,
      "outputs": [
        {
          "output_type": "execute_result",
          "data": {
            "text/plain": [
              "tensor([[1., 1., 1.],\n",
              "        [1., 1., 1.],\n",
              "        [1., 1., 1.],\n",
              "        [1., 1., 1.]])"
            ]
          },
          "metadata": {
            "tags": []
          },
          "execution_count": 3
        }
      ]
    },
    {
      "cell_type": "code",
      "metadata": {
        "colab": {
          "base_uri": "https://localhost:8080/"
        },
        "id": "TgNCKw2iQAsu",
        "outputId": "1cc4ae8f-be3f-440e-d992-4fced7144496"
      },
      "source": [
        "torch.zeros(4, 3)"
      ],
      "execution_count": null,
      "outputs": [
        {
          "output_type": "execute_result",
          "data": {
            "text/plain": [
              "tensor([[0., 0., 0.],\n",
              "        [0., 0., 0.],\n",
              "        [0., 0., 0.],\n",
              "        [0., 0., 0.]])"
            ]
          },
          "metadata": {
            "tags": []
          },
          "execution_count": 4
        }
      ]
    },
    {
      "cell_type": "code",
      "metadata": {
        "colab": {
          "base_uri": "https://localhost:8080/"
        },
        "id": "moQn8xYBQFBV",
        "outputId": "734ccc8c-c404-471d-9961-8cbbb27fb444"
      },
      "source": [
        "x = torch.rand(4, 3)\n",
        "print(x)\n",
        "print(x[1,2])"
      ],
      "execution_count": null,
      "outputs": [
        {
          "output_type": "stream",
          "text": [
            "tensor([[0.3545, 0.8383, 0.5851],\n",
            "        [0.3974, 0.1476, 0.7060],\n",
            "        [0.7828, 0.7779, 0.1469],\n",
            "        [0.9414, 0.0763, 0.1442]])\n",
            "tensor(0.7060)\n"
          ],
          "name": "stdout"
        }
      ]
    },
    {
      "cell_type": "code",
      "metadata": {
        "colab": {
          "base_uri": "https://localhost:8080/"
        },
        "id": "IUwbZ-3JWeoS",
        "outputId": "0352f656-0b90-4dfc-a7d0-aafa745e55c1"
      },
      "source": [
        "# matrix multiply\n",
        "q = x.mm(x.t())\n",
        "print(q)\n",
        "print(q.shape)"
      ],
      "execution_count": null,
      "outputs": [
        {
          "output_type": "stream",
          "text": [
            "tensor([[1.1708, 0.6777, 1.0156, 0.4821],\n",
            "        [0.6777, 0.6782, 0.5296, 0.4872],\n",
            "        [1.0156, 0.5296, 1.2394, 0.8175],\n",
            "        [0.4821, 0.4872, 0.8175, 0.9129]])\n",
            "torch.Size([4, 4])\n"
          ],
          "name": "stdout"
        }
      ]
    },
    {
      "cell_type": "code",
      "metadata": {
        "colab": {
          "base_uri": "https://localhost:8080/"
        },
        "id": "jNic1OUoXbWD",
        "outputId": "fba44da3-28a3-480c-aebc-7492a2de9ca0"
      },
      "source": [
        "torch_tensor = torch.randn(4, 3)\n",
        "numpy_array = np.random.randn(2, 3)\n",
        "print(type(torch_tensor), type(numpy_array))"
      ],
      "execution_count": null,
      "outputs": [
        {
          "output_type": "stream",
          "text": [
            "<class 'torch.Tensor'> <class 'numpy.ndarray'>\n"
          ],
          "name": "stdout"
        }
      ]
    },
    {
      "cell_type": "code",
      "metadata": {
        "colab": {
          "base_uri": "https://localhost:8080/"
        },
        "id": "Agqaz_NAZk1H",
        "outputId": "463c79fb-6a33-4b65-98e8-dbc4e53842f4"
      },
      "source": [
        "torch_tensor = torch_tensor.numpy()\n",
        "numpy_array = torch.from_numpy(numpy_array)\n",
        "print(type(torch_tensor), type(numpy_array))"
      ],
      "execution_count": null,
      "outputs": [
        {
          "output_type": "stream",
          "text": [
            "<class 'numpy.ndarray'> <class 'torch.Tensor'>\n"
          ],
          "name": "stdout"
        }
      ]
    },
    {
      "cell_type": "code",
      "metadata": {
        "colab": {
          "base_uri": "https://localhost:8080/"
        },
        "id": "cdIgVkf9eg2O",
        "outputId": "eb7d95bc-29ec-4ac3-c0ef-2984f383106f"
      },
      "source": [
        "x = torch.randn(4, 3)\n",
        "\n",
        "# run on GPU\n",
        "if torch.cuda.is_available():\n",
        "    x = x.cuda()\n",
        "x"
      ],
      "execution_count": null,
      "outputs": [
        {
          "output_type": "execute_result",
          "data": {
            "text/plain": [
              "tensor([[-0.1406,  2.3044, -0.9438],\n",
              "        [-1.1480, -0.1357, -0.9985],\n",
              "        [-1.8019,  1.7025, -0.5605],\n",
              "        [ 0.9448, -0.8710, -0.2713]], device='cuda:0')"
            ]
          },
          "metadata": {
            "tags": []
          },
          "execution_count": 9
        }
      ]
    },
    {
      "cell_type": "code",
      "metadata": {
        "colab": {
          "base_uri": "https://localhost:8080/"
        },
        "id": "HcNPMvvNffU5",
        "outputId": "2cccf74b-5e09-4f35-f537-cea3f96e4f0b"
      },
      "source": [
        "x.cpu()"
      ],
      "execution_count": null,
      "outputs": [
        {
          "output_type": "execute_result",
          "data": {
            "text/plain": [
              "tensor([[-0.1406,  2.3044, -0.9438],\n",
              "        [-1.1480, -0.1357, -0.9985],\n",
              "        [-1.8019,  1.7025, -0.5605],\n",
              "        [ 0.9448, -0.8710, -0.2713]])"
            ]
          },
          "metadata": {
            "tags": []
          },
          "execution_count": 10
        }
      ]
    },
    {
      "cell_type": "code",
      "metadata": {
        "colab": {
          "base_uri": "https://localhost:8080/"
        },
        "id": "MPm80VwGzJ-c",
        "outputId": "24e6431d-e1c2-48e1-a71d-2fd4a7955379"
      },
      "source": [
        "\"\"\"Autograd\"\"\"\n",
        "\n",
        "x = torch.ones(2, 2, requires_grad=True)\n",
        "x"
      ],
      "execution_count": null,
      "outputs": [
        {
          "output_type": "execute_result",
          "data": {
            "text/plain": [
              "tensor([[1., 1.],\n",
              "        [1., 1.]], requires_grad=True)"
            ]
          },
          "metadata": {
            "tags": []
          },
          "execution_count": 11
        }
      ]
    },
    {
      "cell_type": "code",
      "metadata": {
        "colab": {
          "base_uri": "https://localhost:8080/"
        },
        "id": "vrjY3J9jzgGt",
        "outputId": "5fbe2af7-7d96-40ce-8fa2-454886cf94ad"
      },
      "source": [
        "y = x + 2\n",
        "print(y)\n",
        "print(y.grad_fn)"
      ],
      "execution_count": null,
      "outputs": [
        {
          "output_type": "stream",
          "text": [
            "tensor([[3., 3.],\n",
            "        [3., 3.]], grad_fn=<AddBackward0>)\n",
            "<AddBackward0 object at 0x7f5cde6c2fd0>\n"
          ],
          "name": "stdout"
        }
      ]
    },
    {
      "cell_type": "code",
      "metadata": {
        "colab": {
          "base_uri": "https://localhost:8080/"
        },
        "id": "UTnArDQJzsb-",
        "outputId": "f309877c-5381-420c-83fa-e29f3cab809d"
      },
      "source": [
        "z = y * y\n",
        "print(z)\n",
        "print(z.grad_fn)"
      ],
      "execution_count": null,
      "outputs": [
        {
          "output_type": "stream",
          "text": [
            "tensor([[9., 9.],\n",
            "        [9., 9.]], grad_fn=<MulBackward0>)\n",
            "<MulBackward0 object at 0x7f5cde6d65f8>\n"
          ],
          "name": "stdout"
        }
      ]
    },
    {
      "cell_type": "code",
      "metadata": {
        "colab": {
          "base_uri": "https://localhost:8080/"
        },
        "id": "GJSs1V2m0by2",
        "outputId": "161c40dd-66c0-4788-b8ed-0113c0d92dc3"
      },
      "source": [
        "t = torch.mean(z)\n",
        "print(t)\n",
        "print(t.grad_fn)"
      ],
      "execution_count": null,
      "outputs": [
        {
          "output_type": "stream",
          "text": [
            "tensor(9., grad_fn=<MeanBackward0>)\n",
            "<MeanBackward0 object at 0x7f5cde6c2e48>\n"
          ],
          "name": "stdout"
        }
      ]
    },
    {
      "cell_type": "code",
      "metadata": {
        "colab": {
          "base_uri": "https://localhost:8080/"
        },
        "id": "AFBe7XKX0uqk",
        "outputId": "7e35e153-a3f7-4008-9ab3-ccb93f4fe27c"
      },
      "source": [
        " t.backward()\n",
        " print(z.retain_grad)\n",
        " print(y.retain_grad)\n",
        " print(x.grad)\n",
        " # only the leaf node has grad"
      ],
      "execution_count": null,
      "outputs": [
        {
          "output_type": "stream",
          "text": [
            "<bound method Tensor.retain_grad of tensor([[9., 9.],\n",
            "        [9., 9.]], grad_fn=<MulBackward0>)>\n",
            "<bound method Tensor.retain_grad of tensor([[3., 3.],\n",
            "        [3., 3.]], grad_fn=<AddBackward0>)>\n",
            "tensor([[1.5000, 1.5000],\n",
            "        [1.5000, 1.5000]])\n"
          ],
          "name": "stdout"
        }
      ]
    },
    {
      "cell_type": "code",
      "metadata": {
        "colab": {
          "base_uri": "https://localhost:8080/"
        },
        "id": "C-IyZtZJAglh",
        "outputId": "edc021d2-4bda-43a8-8720-9f955744037e"
      },
      "source": [
        "x = torch.ones(2, 2, requires_grad=True)\n",
        "s = torch.FloatTensor([[0.01,0.02]])\n",
        "\n",
        "for i in range(10):\n",
        "    s = s.mm(x)\n",
        "\n",
        "z = torch.mean(s)\n",
        "z.backward()\n",
        "x.grad"
      ],
      "execution_count": null,
      "outputs": [
        {
          "output_type": "execute_result",
          "data": {
            "text/plain": [
              "tensor([[37.1200, 37.1200],\n",
              "        [39.6800, 39.6800]])"
            ]
          },
          "metadata": {
            "tags": []
          },
          "execution_count": 18
        }
      ]
    }
  ]
}